{
  "nbformat": 4,
  "nbformat_minor": 0,
  "metadata": {
    "colab": {
      "provenance": [],
      "collapsed_sections": [],
      "authorship_tag": "ABX9TyOIJuawJtMQMow3ehUdc79U",
      "include_colab_link": true
    },
    "kernelspec": {
      "name": "python3",
      "display_name": "Python 3"
    },
    "language_info": {
      "name": "python"
    }
  },
  "cells": [
    {
      "cell_type": "markdown",
      "metadata": {
        "id": "view-in-github",
        "colab_type": "text"
      },
      "source": [
        "<a href=\"https://colab.research.google.com/github/ageraustine/color-recognition-efficientNET/blob/master/Color_Recognizer.ipynb\" target=\"_parent\"><img src=\"https://colab.research.google.com/assets/colab-badge.svg\" alt=\"Open In Colab\"/></a>"
      ]
    },
    {
      "cell_type": "markdown",
      "source": [
        "Seeding for Randomization"
      ],
      "metadata": {
        "id": "9PxQ8G5RuNBn"
      }
    },
    {
      "cell_type": "code",
      "execution_count": 1,
      "metadata": {
        "id": "iO5SYQzFuE7b"
      },
      "outputs": [],
      "source": [
        "import numpy as np\n",
        "np.random.seed(345)\n",
        "from tensorflow.random import set_seed\n",
        "set_seed(3)"
      ]
    },
    {
      "cell_type": "markdown",
      "source": [
        "Essential Modules"
      ],
      "metadata": {
        "id": "vawAEoAuwVbi"
      }
    },
    {
      "cell_type": "code",
      "source": [
        "import shutil\n",
        "from collections import defaultdict\n",
        "import json\n",
        "from pathlib import Path\n",
        "import os\n",
        "import numpy as np\n",
        "from PIL import Image, ImageDraw, ImageFont\n",
        "from numpy import asarray\n",
        "import pandas as pd\n",
        "import matplotlib.pyplot as plt\n",
        "import tensorflow as tf\n",
        "from tensorflow import keras\n",
        "from tensorflow.keras import layers, optimizers, callbacks\n",
        "from keras_preprocessing.image import ImageDataGenerator\n",
        "tf.keras.backend.clear_session()\n",
        "from sklearn.metrics import precision_recall_fscore_support, accuracy_score\n",
        "from sklearn import datasets\n",
        "from sklearn import model_selection\n",
        "from sklearn.metrics import confusion_matrix\n",
        "import time\n",
        "from datetime import datetime\n",
        "import zipfile"
      ],
      "metadata": {
        "id": "xVUZLpBjvSIv"
      },
      "execution_count": 2,
      "outputs": []
    },
    {
      "cell_type": "markdown",
      "source": [
        "Fetching the Dataset"
      ],
      "metadata": {
        "id": "VATIvaUX1mEG"
      }
    },
    {
      "cell_type": "code",
      "source": [
        "from google.colab import drive\n",
        "drive.mount('/content/drive/')\n",
        "vcor_zip_loc = '/content/drive/MyDrive/datasets/vcor/vcor_zipfile.zip'"
      ],
      "metadata": {
        "colab": {
          "base_uri": "https://localhost:8080/"
        },
        "id": "BtTZZ9oO1o61",
        "outputId": "45277128-d599-41ef-abaf-cb75fc1bfe06"
      },
      "execution_count": 3,
      "outputs": [
        {
          "output_type": "stream",
          "name": "stdout",
          "text": [
            "Drive already mounted at /content/drive/; to attempt to forcibly remount, call drive.mount(\"/content/drive/\", force_remount=True).\n"
          ]
        }
      ]
    },
    {
      "cell_type": "markdown",
      "source": [
        "Unzip the vcor zip file from drive"
      ],
      "metadata": {
        "id": "7TyYmSIJ45P3"
      }
    },
    {
      "cell_type": "code",
      "source": [
        "vcor_path = os.path.join(os.getcwd(),\"datasets\")\n",
        "with zipfile.ZipFile(vcor_zip_loc, \"r\") as zp:\n",
        "  zp.extractall(vcor_path)"
      ],
      "metadata": {
        "id": "AvWNDAAu24Mg"
      },
      "execution_count": 4,
      "outputs": []
    },
    {
      "cell_type": "markdown",
      "source": [
        "Datasets directories"
      ],
      "metadata": {
        "id": "uE4v4UNZ4_kj"
      }
    },
    {
      "cell_type": "code",
      "source": [
        "train_path = f\"{vcor_path}/train/\"\n",
        "test_path = f\"{vcor_path}/test/\"\n",
        "val_path = f\"{vcor_path}/val/\""
      ],
      "metadata": {
        "id": "a6UU5G_P3_pJ"
      },
      "execution_count": 5,
      "outputs": []
    },
    {
      "cell_type": "markdown",
      "source": [
        "                         Data Preprocessing\n",
        "1. Load the dataset                        "
      ],
      "metadata": {
        "id": "NeYKHG1n6AwJ"
      }
    },
    {
      "cell_type": "code",
      "source": [
        "batch_size = 32\n",
        "train_ds = tf.keras.utils.image_dataset_from_directory(\n",
        "  train_path,\n",
        "  seed=123,\n",
        "  batch_size=batch_size)\n",
        "\n",
        "val_ds = tf.keras.utils.image_dataset_from_directory(\n",
        "  val_path,\n",
        "  seed=123,\n",
        "  batch_size=batch_size)"
      ],
      "metadata": {
        "colab": {
          "base_uri": "https://localhost:8080/"
        },
        "id": "LrbeSlhv66dk",
        "outputId": "4124f371-d93d-4612-c670-da0b11a3b34f"
      },
      "execution_count": 6,
      "outputs": [
        {
          "output_type": "stream",
          "name": "stdout",
          "text": [
            "Found 7267 files belonging to 15 classes.\n",
            "Found 1550 files belonging to 15 classes.\n"
          ]
        }
      ]
    },
    {
      "cell_type": "markdown",
      "source": [
        "2. Dataset Normalization"
      ],
      "metadata": {
        "id": "O_FT0znEBHSk"
      }
    },
    {
      "cell_type": "code",
      "source": [
        "normalization_layer = layers.Rescaling(1./255)\n",
        "train_ds = train_ds.map(lambda x, y: (normalization_layer(x), y)) \n",
        "val_ds = val_ds.map(lambda x, y: (normalization_layer(x), y))"
      ],
      "metadata": {
        "id": "bPIP68I5AcTj"
      },
      "execution_count": 7,
      "outputs": []
    },
    {
      "cell_type": "markdown",
      "source": [
        "Model Building"
      ],
      "metadata": {
        "id": "kqqoGdPFyPRO"
      }
    },
    {
      "cell_type": "code",
      "source": [
        "# MODEL PARAMETERS\n",
        "ISIZE = 256\n",
        "NUM_CLASSES = 15\n",
        "\n",
        "# Model layers\n",
        "model_name='EfficientNetB3'\n",
        "base_model= tf.keras.applications.EfficientNetB3(include_top=False, weights='imagenet',input_shape=(ISIZE, ISIZE, 3), pooling='max')\n",
        "x= base_model.output\n",
        "x= layers.BatchNormalization(axis=-1, momentum=0.99, epsilon=0.001 )(x)\n",
        "x = layers.Dense(256, activation='relu')(x)\n",
        "x= keras.layers.Dropout(rate=.45, seed=123)(x)\n",
        "\n",
        "# softmax activation function for multi-class classification     \n",
        "output= layers.Dense(NUM_CLASSES, activation='softmax')(x)\n",
        "# Model Initialization\n",
        "model= keras.Model(inputs=base_model.input, outputs=output)\n",
        "#Model Compilation\n",
        "model.compile(optimizers.Adamax(learning_rate=.0001), loss='sparse_categorical_crossentropy', metrics=['accuracy'])"
      ],
      "metadata": {
        "id": "_5DYiCVGyR8V"
      },
      "execution_count": 8,
      "outputs": []
    },
    {
      "cell_type": "code",
      "source": [
        "EPOCHS = 10\n",
        "csv_logger = callbacks.CSVLogger('training.log', separator=',', append=False)\n",
        "\n",
        "checkpointer = callbacks.ModelCheckpoint(filepath='model.h5', \n",
        "                               verbose=1, \n",
        "                               save_best_only=True)\n",
        "\n",
        "early_stop = callbacks.EarlyStopping(monitor='val_loss',\n",
        "                           patience=10,\n",
        "                           restore_best_weights=True,\n",
        "                           mode='min')\n",
        "history = model.fit(train_ds,\n",
        "                    epochs=EPOCHS, \n",
        "                    validation_data=val_ds,\n",
        "                    callbacks=[early_stop, checkpointer, csv_logger],\n",
        "                    verbose=True,\n",
        "                    shuffle = True,\n",
        "                    workers=4)"
      ],
      "metadata": {
        "colab": {
          "base_uri": "https://localhost:8080/"
        },
        "id": "0iq_X4rBBbK2",
        "outputId": "da2ed0e2-39d7-4710-d533-a556c78ab5f3"
      },
      "execution_count": null,
      "outputs": [
        {
          "output_type": "stream",
          "name": "stdout",
          "text": [
            "Epoch 1/10\n",
            " 52/228 [=====>........................] - ETA: 1:13:10 - loss: 3.4445 - accuracy: 0.1058"
          ]
        }
      ]
    }
  ]
}